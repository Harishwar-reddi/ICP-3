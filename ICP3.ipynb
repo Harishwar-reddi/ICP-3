{
  "nbformat": 4,
  "nbformat_minor": 0,
  "metadata": {
    "colab": {
      "provenance": []
    },
    "kernelspec": {
      "name": "python3",
      "display_name": "Python 3"
    },
    "language_info": {
      "name": "python"
    }
  },
  "cells": [
    {
      "cell_type": "markdown",
      "source": [
        "##**Q1**"
      ],
      "metadata": {
        "id": "y15URcsuGR6t"
      }
    },
    {
      "cell_type": "code",
      "source": [
        "import numpy as np\n",
        "\n",
        "# 1. Using NumPy create random vector of size 15 having only Integers in the range 1-20.\n",
        "vector = np.random.randint(1, 21, size=15)\n",
        "\n",
        "# a. Reshape the array to 3 by 5.\n",
        "array_3x5 = vector.reshape(3, 5)\n",
        "\n",
        "# b. Print array shape.\n",
        "print(\"Shape of the array:\", array_3x5.shape)\n",
        "\n",
        "# c. Replace the max in each row by 0.\n",
        "for i in range(array_3x5.shape[0]):\n",
        "    max_val_index = array_3x5[i].argmax()\n",
        "    array_3x5[i][max_val_index] = 0\n",
        "\n",
        "print(\"Modified Array:\")\n",
        "print(array_3x5)\n"
      ],
      "metadata": {
        "colab": {
          "base_uri": "https://localhost:8080/"
        },
        "id": "KOuPf4RSGaTc",
        "outputId": "10478db5-23c4-4e86-8679-0b52848d7295"
      },
      "execution_count": 1,
      "outputs": [
        {
          "output_type": "stream",
          "name": "stdout",
          "text": [
            "Shape of the array: (3, 5)\n",
            "Modified Array:\n",
            "[[11 14  3  0 10]\n",
            " [12  0  5  4  2]\n",
            " [ 2 15 11  0 15]]\n"
          ]
        }
      ]
    },
    {
      "cell_type": "markdown",
      "source": [
        "##**Q2**"
      ],
      "metadata": {
        "id": "werVC-yyHleY"
      }
    },
    {
      "cell_type": "code",
      "source": [
        "import numpy as np\n",
        "array = np.array([[1, 2, 3], [4, 5, 6], [7, 8, 9],\n",
        " [10, 11, 12]], dtype=np.int32)\n",
        "\n",
        "# Print array shape\n",
        "print(\"Shape of the array:\", array.shape)\n",
        "\n",
        "# Print type of the array\n",
        "print(\"Type of the array:\", type(array))\n",
        "\n",
        "# Print data type of the array\n",
        "print(\"Data type of the array:\", array.dtype)\n",
        "\n"
      ],
      "metadata": {
        "colab": {
          "base_uri": "https://localhost:8080/"
        },
        "id": "cklhQZ6JHpQF",
        "outputId": "60aa0427-7a5c-4913-d133-7f4ecf6e4f0b"
      },
      "execution_count": 3,
      "outputs": [
        {
          "output_type": "stream",
          "name": "stdout",
          "text": [
            "Shape of the array: (4, 3)\n",
            "Type of the array: <class 'numpy.ndarray'>\n",
            "Data type of the array: int32\n"
          ]
        }
      ]
    },
    {
      "cell_type": "markdown",
      "source": [
        "##**Q3**"
      ],
      "metadata": {
        "id": "Xcz2X2bgIHwp"
      }
    },
    {
      "cell_type": "code",
      "source": [
        "import numpy as np\n",
        "\n",
        "array = np.array([[0, 1, 2], [3, 4, 5]])\n",
        "\n",
        "# Compute the sum of the diagonal elements\n",
        "diagonal_sum = np.sum(array.diagonal())\n",
        "\n",
        "print(\"Sum of diagonal elements:\", diagonal_sum)\n"
      ],
      "metadata": {
        "colab": {
          "base_uri": "https://localhost:8080/"
        },
        "id": "URvu8r2_IMhA",
        "outputId": "1b40d1bd-2d27-4aff-9a47-b1d81a332e70"
      },
      "execution_count": 4,
      "outputs": [
        {
          "output_type": "stream",
          "name": "stdout",
          "text": [
            "Sum of diagonal elements: 4\n"
          ]
        }
      ]
    },
    {
      "cell_type": "markdown",
      "source": [
        "##**Q4**"
      ],
      "metadata": {
        "id": "YTnmeOrLIf6B"
      }
    },
    {
      "cell_type": "code",
      "source": [
        "import numpy as np\n",
        "\n",
        "# a. To create an array of odd and even numbers between 10 to 70.\n",
        "evens = np.arange(10, 71, 2)\n",
        "odds = np.arange(11, 71, 2)\n",
        "print(\"Even numbers:\", evens)\n",
        "print(\"Odd numbers:\", odds)\n",
        "\n",
        "# b. To perform at-least three element-wise mathematical operations using two arrays of the same size.\n",
        "arr1 = np.array([1, 2, 3])\n",
        "arr2 = np.array([4, 5, 6])\n",
        "\n",
        "sum_arr = np.add(arr1, arr2)\n",
        "diff_arr = np.subtract(arr1, arr2)\n",
        "product_arr = np.multiply(arr1, arr2)\n",
        "\n",
        "print(\"Sum of arrays:\", sum_arr)\n",
        "print(\"Difference of arrays:\", diff_arr)\n",
        "print(\"Product of arrays:\", product_arr)\n",
        "\n",
        "# c. To sort a given array by row and column in ascending order.\n",
        "array = np.array([[5.54, 3.38, 7.99], [3.54, 4.38, 6.99], [1.54, 2.39, 9.29]])\n",
        "\n",
        "sorted_by_row = np.sort(array, axis=1)\n",
        "sorted_by_column = np.sort(array, axis=0)\n",
        "\n",
        "print(\"Sorted by row:\")\n",
        "print(sorted_by_row)\n",
        "print(\"Sorted by column:\")\n",
        "print(sorted_by_column)\n"
      ],
      "metadata": {
        "colab": {
          "base_uri": "https://localhost:8080/"
        },
        "id": "qQwKnj7AILMb",
        "outputId": "43374c09-acb6-4d69-c180-ff1eee30f642"
      },
      "execution_count": 5,
      "outputs": [
        {
          "output_type": "stream",
          "name": "stdout",
          "text": [
            "Even numbers: [10 12 14 16 18 20 22 24 26 28 30 32 34 36 38 40 42 44 46 48 50 52 54 56\n",
            " 58 60 62 64 66 68 70]\n",
            "Odd numbers: [11 13 15 17 19 21 23 25 27 29 31 33 35 37 39 41 43 45 47 49 51 53 55 57\n",
            " 59 61 63 65 67 69]\n",
            "Sum of arrays: [5 7 9]\n",
            "Difference of arrays: [-3 -3 -3]\n",
            "Product of arrays: [ 4 10 18]\n",
            "Sorted by row:\n",
            "[[3.38 5.54 7.99]\n",
            " [3.54 4.38 6.99]\n",
            " [1.54 2.39 9.29]]\n",
            "Sorted by column:\n",
            "[[1.54 2.39 6.99]\n",
            " [3.54 3.38 7.99]\n",
            " [5.54 4.38 9.29]]\n"
          ]
        }
      ]
    },
    {
      "cell_type": "markdown",
      "source": [
        "##**Q5**"
      ],
      "metadata": {
        "id": "yvaA7ZaSI8ol"
      }
    },
    {
      "cell_type": "code",
      "source": [
        "import numpy as np\n",
        "\n",
        "# Declare the given array using NumPy\n",
        "Array = np.array([[4, 2, np.nan, 1],\n",
        "                  [11, 12, 14, 9],\n",
        "                  [5, np.nan, 1, np.nan]])\n",
        "\n",
        "# Find missing data by returning Boolean output\n",
        "missing_data = np.isnan(Array)\n",
        "\n",
        "print(missing_data)\n"
      ],
      "metadata": {
        "colab": {
          "base_uri": "https://localhost:8080/"
        },
        "id": "7rvdAJ_mI_bA",
        "outputId": "48bbc3ee-f266-4471-9d19-683d3b64478f"
      },
      "execution_count": 7,
      "outputs": [
        {
          "output_type": "stream",
          "name": "stdout",
          "text": [
            "[[False False  True False]\n",
            " [False False False False]\n",
            " [False  True False  True]]\n"
          ]
        }
      ]
    }
  ]
}